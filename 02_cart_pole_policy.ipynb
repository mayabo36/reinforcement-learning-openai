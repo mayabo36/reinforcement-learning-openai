{
 "cells": [
  {
   "cell_type": "markdown",
   "metadata": {},
   "source": [
    "# Initials"
   ]
  },
  {
   "cell_type": "code",
   "execution_count": 26,
   "metadata": {},
   "outputs": [],
   "source": [
    "import gym\n",
    "import numpy as np\n",
    "\n",
    "%matplotlib inline\n",
    "import matplotlib.pyplot as plt\n",
    "\n",
    "import time\n",
    "env = gym.make(\"CartPole-v1\")\n",
    "\n",
    "backwards, forwards = 0, 1"
   ]
  },
  {
   "cell_type": "code",
   "execution_count": 138,
   "metadata": {},
   "outputs": [],
   "source": [
    "# run one episode \n",
    "def run_episode(weight_vector, state):\n",
    "    total_reward = 0\n",
    "    for _ in np.arange(200):\n",
    "        # If the pole angle is greater than 0 then the pole is tilting right, \n",
    "        #   so we want to move the cart forwards. Otherwise, the pole is tilting left,\n",
    "        #   so we want to move the cart backwards.\n",
    "        # This will allow the pole to stay upright.\n",
    "        action = backwards if np.matmul(weight_vector, state) < 0 else forwards\n",
    "        \n",
    "        # Check if the cart is about to go out of bounds, if so move away (forwards or backwards)\n",
    "        if weight_vector[0] + weight_vector[1] >= 2.4:\n",
    "            action = backwards\n",
    "        elif weight_vector[0] + weight_vector[1] <= -2.4:\n",
    "            action = forwards\n",
    "        \n",
    "        state, reward, done, _ = env.step(action)\n",
    "        total_reward += reward\n",
    "        if done:\n",
    "            env.reset()\n",
    "            break\n",
    "    return total_reward, weight_vector[0], weight_vector[2], done"
   ]
  },
  {
   "cell_type": "markdown",
   "metadata": {},
   "source": [
    "## Stuffs"
   ]
  },
  {
   "cell_type": "code",
   "execution_count": 139,
   "metadata": {},
   "outputs": [],
   "source": [
    "def guess_till_success(state):\n",
    "    counter = 0\n",
    "    guess = 0\n",
    "    angle = 0\n",
    "    done = False\n",
    "    weight_vector = None\n",
    "    while counter < 100:\n",
    "        weight_vector = np.random.rand(4) * 2.0 - 1.0\n",
    "        reward, pos, angle, done = run_episode(weight_vector, state)\n",
    "        if not done:\n",
    "            counter = 0\n",
    "        else:\n",
    "            counter += 1\n",
    "        guess += 1\n",
    "    print \"Reward is greater than or equal to 195.0 over 100 consecutive trials, with final pole angle\", angle\n",
    "\n",
    "    return counter, weight_vector"
   ]
  },
  {
   "cell_type": "code",
   "execution_count": 140,
   "metadata": {},
   "outputs": [],
   "source": [
    "def run():\n",
    "    state = env.reset()\n",
    "    counter, weight_vector = guess_till_success(state)\n",
    "    print(\"Number of guesses:\", counter)\n",
    "    print(\"Weight vector:\", weight_vector)"
   ]
  },
  {
   "cell_type": "code",
   "execution_count": 141,
   "metadata": {},
   "outputs": [
    {
     "name": "stdout",
     "output_type": "stream",
     "text": [
      "Reward is greater than or equal to 195.0 over 100 consecutive trials, with final pole angle 0.9487340386236185\n",
      "('Number of guesses:', 100)\n",
      "('Weight vector:', array([ 0.46565256, -0.15353333,  0.94873404, -0.16701164]))\n"
     ]
    }
   ],
   "source": [
    "run()"
   ]
  },
  {
   "cell_type": "code",
   "execution_count": 143,
   "metadata": {},
   "outputs": [
    {
     "name": "stdout",
     "output_type": "stream",
     "text": [
      "Reward is greater than or equal to 195.0 over 100 consecutive trials, with final pole angle -0.7276954171421353\n",
      "('Number of guesses:', 100)\n",
      "('Weight vector:', array([-0.56860728, -0.20103123, -0.72769542, -0.70610221]))\n"
     ]
    }
   ],
   "source": [
    "run()"
   ]
  },
  {
   "cell_type": "code",
   "execution_count": 144,
   "metadata": {},
   "outputs": [
    {
     "name": "stdout",
     "output_type": "stream",
     "text": [
      "Reward is greater than or equal to 195.0 over 100 consecutive trials, with final pole angle 0.3471933529472724\n",
      "('Number of guesses:', 100)\n",
      "('Weight vector:', array([-0.96757123,  0.83964855,  0.34719335,  0.1520688 ]))\n"
     ]
    }
   ],
   "source": [
    "run()"
   ]
  },
  {
   "cell_type": "code",
   "execution_count": 145,
   "metadata": {},
   "outputs": [
    {
     "name": "stdout",
     "output_type": "stream",
     "text": [
      "Reward is greater than or equal to 195.0 over 100 consecutive trials, with final pole angle -0.9464416462057943\n",
      "('Number of guesses:', 100)\n",
      "('Weight vector:', array([-0.09235455,  0.9607855 , -0.94644165, -0.39801338]))\n"
     ]
    }
   ],
   "source": [
    "run()"
   ]
  },
  {
   "cell_type": "code",
   "execution_count": null,
   "metadata": {},
   "outputs": [],
   "source": []
  }
 ],
 "metadata": {
  "kernelspec": {
   "display_name": "Python 2",
   "language": "python",
   "name": "python2"
  },
  "language_info": {
   "codemirror_mode": {
    "name": "ipython",
    "version": 2
   },
   "file_extension": ".py",
   "mimetype": "text/x-python",
   "name": "python",
   "nbconvert_exporter": "python",
   "pygments_lexer": "ipython2",
   "version": "2.7.10"
  }
 },
 "nbformat": 4,
 "nbformat_minor": 2
}
