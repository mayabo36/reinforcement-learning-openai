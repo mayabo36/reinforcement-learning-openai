{
 "cells": [
  {
   "cell_type": "markdown",
   "metadata": {},
   "source": [
    "# Explicit Policy for Mountain Car"
   ]
  },
  {
   "cell_type": "code",
   "execution_count": 33,
   "metadata": {
    "scrolled": false
   },
   "outputs": [
    {
     "name": "stdout",
     "output_type": "stream",
     "text": [
      "\u001b[33mWARN: gym.spaces.Box autodetected dtype as <type 'numpy.float32'>. Please provide explicit dtype.\u001b[0m\n"
     ]
    }
   ],
   "source": [
    "import gym\n",
    "import numpy as np\n",
    "\n",
    "%matplotlib inline\n",
    "import matplotlib.pyplot as plt\n",
    "\n",
    "import time\n",
    "\n",
    "env = gym.make(\"MountainCar-v0\")\n",
    "\n",
    "backwards, forwards = 0, 2\n",
    "\n",
    "# run one episode \n",
    "def run_episode(weight_vector, state):\n",
    "    for _ in np.arange(100):\n",
    "        # If the car is moving away from the flag, accelerate backwards\n",
    "        # Otherwise, accelerate forwards\n",
    "        # This will allow the mountain car to gain enough momentum to reach the flag!\n",
    "        action = backwards if np.matmul(weight_vector, state) > 0 else forwards\n",
    "        state, reward, done, _ = env.step(action)\n",
    "        if done:\n",
    "            break\n",
    "    return state[0]\n",
    "\n",
    "\n",
    "# returns the number of guesses performed till success and the successful weight vector\n",
    "def guess_till_success(state):\n",
    "    counter = 0\n",
    "    position = 0\n",
    "    weight_vector = None\n",
    "    while position < 0.5:\n",
    "        counter += 1\n",
    "        weight_vector = np.random.rand(2) * 2.0 - 1.0\n",
    "        position = run_episode(weight_vector, state)\n",
    "    \n",
    "    print \"Reached flag with final car position at\", position\n",
    "\n",
    "    return counter, weight_vector\n"
   ]
  },
  {
   "cell_type": "markdown",
   "metadata": {},
   "source": [
    "## Test Runs"
   ]
  },
  {
   "cell_type": "code",
   "execution_count": 34,
   "metadata": {},
   "outputs": [],
   "source": [
    "def run():\n",
    "    state = env.reset()\n",
    "    counter, weight_vector = guess_till_success(state)\n",
    "    print(\"Number of guesses:\", counter)\n",
    "    print(\"Weight vector:\", weight_vector)"
   ]
  },
  {
   "cell_type": "code",
   "execution_count": 35,
   "metadata": {},
   "outputs": [
    {
     "name": "stdout",
     "output_type": "stream",
     "text": [
      "Reached flag with final car position at 0.501850245261335\n",
      "('Number of guesses:', 44689)\n",
      "('Weight vector:', array([-0.78635608,  0.73615851]))\n"
     ]
    }
   ],
   "source": [
    "run()"
   ]
  },
  {
   "cell_type": "code",
   "execution_count": 36,
   "metadata": {},
   "outputs": [
    {
     "name": "stdout",
     "output_type": "stream",
     "text": [
      "Reached flag with final car position at 0.5122463278204781\n",
      "('Number of guesses:', 20428)\n",
      "('Weight vector:', array([ 0.30940503, -0.28989041]))\n"
     ]
    }
   ],
   "source": [
    "run()"
   ]
  },
  {
   "cell_type": "code",
   "execution_count": 37,
   "metadata": {},
   "outputs": [
    {
     "name": "stdout",
     "output_type": "stream",
     "text": [
      "Reached flag with final car position at 0.504073067438042\n",
      "('Number of guesses:', 3139)\n",
      "('Weight vector:', array([0.9377231 , 0.68650374]))\n"
     ]
    }
   ],
   "source": [
    "run()"
   ]
  },
  {
   "cell_type": "code",
   "execution_count": 38,
   "metadata": {},
   "outputs": [
    {
     "name": "stdout",
     "output_type": "stream",
     "text": [
      "Reached flag with final car position at 0.5021445414307124\n",
      "('Number of guesses:', 22374)\n",
      "('Weight vector:', array([ 0.43257542, -0.54964087]))\n"
     ]
    }
   ],
   "source": [
    "run()"
   ]
  }
 ],
 "metadata": {
  "kernelspec": {
   "display_name": "Python 2",
   "language": "python",
   "name": "python2"
  },
  "language_info": {
   "codemirror_mode": {
    "name": "ipython",
    "version": 2
   },
   "file_extension": ".py",
   "mimetype": "text/x-python",
   "name": "python",
   "nbconvert_exporter": "python",
   "pygments_lexer": "ipython2",
   "version": "2.7.10"
  }
 },
 "nbformat": 4,
 "nbformat_minor": 2
}
